{
 "cells": [
  {
   "cell_type": "code",
   "execution_count": 1,
   "metadata": {},
   "outputs": [],
   "source": [
    "%matplotlib inline\n",
    "import matplotlib\n",
    "import matplotlib.pyplot as plt\n",
    "import matplotlib.style as style\n",
    "import pandas as pd\n",
    "import numpy as np\n",
    "import seaborn as sns\n",
    "import sklearn\n",
    "import imblearn\n",
    "import sys\n",
    "from sklearn.model_selection import train_test_split"
   ]
  },
  {
   "cell_type": "code",
   "execution_count": 2,
   "metadata": {},
   "outputs": [],
   "source": [
    "#ls"
   ]
  },
  {
   "cell_type": "code",
   "execution_count": 3,
   "metadata": {},
   "outputs": [
    {
     "data": {
      "text/plain": [
       "X                               0\n",
       "duration                        9\n",
       "land                            0\n",
       "wrong_fragment                  0\n",
       "urgent                         14\n",
       "hot                            12\n",
       "num_failed_logins              12\n",
       "logged_in                      18\n",
       "num_compromised                11\n",
       "root_shell                     11\n",
       "su_attempted                   10\n",
       "num_root                       17\n",
       "num_file_creations             12\n",
       "num_shells                      6\n",
       "num_access_files                8\n",
       "num_outbound_cmds               0\n",
       "is_host_login                   0\n",
       "is_guest_login                 12\n",
       "rerror_rate                     7\n",
       "srv_rerror_rate                11\n",
       "diff_srv_rate                  10\n",
       "srv_diff_host_rate             11\n",
       "dst_host_count                 11\n",
       "dst_host_srv_diff_host_rate    11\n",
       "dst_host_rerror_rate           10\n",
       "dst_host_srv_rerror_rate        9\n",
       "serror_rate                    17\n",
       "Target                          8\n",
       "dtype: int64"
      ]
     },
     "execution_count": 3,
     "metadata": {},
     "output_type": "execute_result"
    }
   ],
   "source": [
    "df = pd.read_csv(\"intrusion_data.csv\")\n",
    "#null_columns=df.columns[df.isnull().any()]\n",
    "#df[null_columns].isnull().sum()\n",
    "df.isnull().sum()"
   ]
  },
  {
   "cell_type": "code",
   "execution_count": 4,
   "metadata": {},
   "outputs": [
    {
     "data": {
      "text/plain": [
       "X                                int64\n",
       "duration                       float64\n",
       "land                             int64\n",
       "wrong_fragment                   int64\n",
       "urgent                         float64\n",
       "hot                            float64\n",
       "num_failed_logins              float64\n",
       "logged_in                      float64\n",
       "num_compromised                float64\n",
       "root_shell                     float64\n",
       "su_attempted                   float64\n",
       "num_root                       float64\n",
       "num_file_creations             float64\n",
       "num_shells                     float64\n",
       "num_access_files               float64\n",
       "num_outbound_cmds                int64\n",
       "is_host_login                    int64\n",
       "is_guest_login                 float64\n",
       "rerror_rate                    float64\n",
       "srv_rerror_rate                float64\n",
       "diff_srv_rate                  float64\n",
       "srv_diff_host_rate             float64\n",
       "dst_host_count                 float64\n",
       "dst_host_srv_diff_host_rate    float64\n",
       "dst_host_rerror_rate           float64\n",
       "dst_host_srv_rerror_rate       float64\n",
       "serror_rate                    float64\n",
       "Target                         float64\n",
       "dtype: object"
      ]
     },
     "execution_count": 4,
     "metadata": {},
     "output_type": "execute_result"
    }
   ],
   "source": [
    "df.dtypes"
   ]
  },
  {
   "cell_type": "code",
   "execution_count": 5,
   "metadata": {},
   "outputs": [
    {
     "name": "stdout",
     "output_type": "stream",
     "text": [
      "Mode is:  0    0.0\n",
      "dtype: float64\n"
     ]
    }
   ],
   "source": [
    "df.Target.value_counts()\n",
    "df.Target.dtype\n",
    "#df.Target.head()\n",
    "print(\"Mode is: \",(df.Target.mode()))"
   ]
  },
  {
   "cell_type": "code",
   "execution_count": 6,
   "metadata": {},
   "outputs": [
    {
     "name": "stdout",
     "output_type": "stream",
     "text": [
      "Mode is:  0\n",
      "0    0.0\n",
      "1    0.0\n",
      "2    0.0\n",
      "3    0.0\n",
      "4    0.0\n",
      "Name: Target, dtype: float64\n",
      "Null values:  8\n",
      "--------------------------------\n",
      "0    0.0\n",
      "1    0.0\n",
      "2    0.0\n",
      "3    0.0\n",
      "4    0.0\n",
      "Name: Target, dtype: float64\n",
      "Null values:  0\n",
      "Unique:  [0. 1.]\n",
      "dtype:  float64\n"
     ]
    }
   ],
   "source": [
    "df.Target = df.Target.astype(np.object)\n",
    "df.Target = df.Target.fillna(df.Target.mode())\n",
    "#df.Target = df.Target.replace(to_replace = 'NA',value = df.Target.mode())\n",
    "print(\"Mode is: \", int(df.Target.mode()[0]))\n",
    "#print(\"Type of:\", type(df.Target.mode()))\n",
    "print(df.Target.head())\n",
    "print(\"Null values: \", df.Target.isnull().sum())\n",
    "print(\"--------------------------------\")\n",
    "df.Target = df.Target.fillna(int(df.Target.mode()[0]))\n",
    "print(df.Target.head())\n",
    "print(\"Null values: \", df.Target.isnull().sum())\n",
    "print(\"Unique: \", df.Target.unique())\n",
    "print(\"dtype: \", df.Target.dtype)"
   ]
  },
  {
   "cell_type": "code",
   "execution_count": 7,
   "metadata": {},
   "outputs": [
    {
     "name": "stdout",
     "output_type": "stream",
     "text": [
      "0    0\n",
      "1    0\n",
      "2    0\n",
      "3    0\n",
      "4    0\n",
      "Name: Target, dtype: int64\n",
      "Null values:  0\n",
      "Unique:  [0 1]\n",
      "dtype:  int64\n"
     ]
    }
   ],
   "source": [
    "df[\"Target\"]= df[\"Target\"].astype(np.int64)\n",
    "print(df.Target.head())\n",
    "print(\"Null values: \", df.Target.isnull().sum())\n",
    "print(\"Unique: \", df.Target.unique())\n",
    "print(\"dtype: \", df.Target.dtype)"
   ]
  },
  {
   "cell_type": "code",
   "execution_count": 8,
   "metadata": {},
   "outputs": [
    {
     "data": {
      "text/plain": [
       "0"
      ]
     },
     "execution_count": 8,
     "metadata": {},
     "output_type": "execute_result"
    }
   ],
   "source": [
    "df['duration'].mean()\n",
    "df.duration = df.fillna(value=df['duration'].mean())\n",
    "df.urgent = df.fillna(value=df.urgent.mean())\n",
    "df.urgent.isnull().sum()\n",
    "\n",
    "df['land'].mode()\n",
    "df.land = df.fillna(value=df['land'].mode())\n",
    "df.land.isnull().sum()\n",
    "\n",
    "df['wrong_fragment'].mode()\n",
    "df.land = df.fillna(value=df['wrong_fragment'].mode())\n",
    "df.land.isnull().sum()\n",
    "\n",
    "df['num_outbound_cmds'].mode()\n",
    "df.land = df.fillna(value=df['num_outbound_cmds'].mode())\n",
    "df.land.isnull().sum()\n",
    "\n",
    "df['X'].mode()\n",
    "df.land = df.fillna(value=df['X'].mode())\n",
    "df.land.isnull().sum()\n",
    "\n",
    "df['is_host_login'].mode()\n",
    "df.land = df.fillna(value=df['is_host_login'].mode())\n",
    "df.land.isnull().sum()\n",
    "\n",
    "df['hot'].mean()\n",
    "df.hot = df.fillna(value=df['hot'].mean())\n",
    "df.hot.isnull().sum()\n",
    "\n",
    "df['num_failed_logins'].mean()\n",
    "df.num_failed_logins = df.fillna(value=df['num_failed_logins'].mean())\n",
    "df.num_failed_logins.isnull().sum()\n",
    "\n",
    "df['logged_in'].mean()\n",
    "df.logged_in = df.fillna(value=df['logged_in'].mean())\n",
    "df.logged_in.isnull().sum()\n",
    "\n",
    "df['num_compromised'].mean()\n",
    "df.num_compromised = df.fillna(value=df['num_compromised'].mean())\n",
    "df.num_compromised.isnull().sum()\n",
    "\n",
    "df['root_shell'].mean()\n",
    "df.root_shell = df.fillna(value=df['root_shell'].mean())\n",
    "df.root_shell.isnull().sum()\n",
    "\n",
    "df['su_attempted'].mean()\n",
    "df.su_attempted = df.fillna(value=df['su_attempted'].mean())\n",
    "df.su_attempted.isnull().sum()\n",
    "\n",
    "df['num_root'].mean()\n",
    "df.num_root = df.fillna(value=df['num_root'].mean())\n",
    "df.num_root.isnull().sum()\n",
    "\n",
    "df['num_file_creations'].mean()\n",
    "df.num_file_creations = df.fillna(value=df['num_file_creations'].mean())\n",
    "df.num_file_creations.isnull().sum()\n",
    "\n",
    "df['num_shells'].mean()\n",
    "df.num_shells = df.fillna(value=df['num_shells'].mean())\n",
    "df.num_shells.isnull().sum()\n",
    "\n",
    "df['num_access_files'].mean()\n",
    "df.num_access_files = df.fillna(value=df['num_access_files'].mean())\n",
    "df.num_access_files.isnull().sum()\n",
    "\n",
    "df['is_guest_login'].mean()\n",
    "df.is_guest_login = df.fillna(value=df['is_guest_login'].mean())\n",
    "df.is_guest_login.isnull().sum()\n",
    "\n",
    "df['rerror_rate'].mean()\n",
    "df.rerror_rate = df.fillna(value=df['rerror_rate'].mean())\n",
    "df.rerror_rate.isnull().sum()\n",
    "\n",
    "df['srv_rerror_rate'].mean()\n",
    "df.srv_rerror_rate = df.fillna(value=df['srv_rerror_rate'].mean())\n",
    "df.srv_rerror_rate.isnull().sum()\n",
    "\n",
    "df['diff_srv_rate'].mean()\n",
    "df.diff_srv_rate = df.fillna(value=df['diff_srv_rate'].mean())\n",
    "df.diff_srv_rate.isnull().sum()\n",
    "\n",
    "df['dst_host_count'].mean()\n",
    "df.dst_host_count = df.fillna(value=df['dst_host_count'].mean())\n",
    "df.dst_host_count.isnull().sum()\n",
    "\n",
    "df['dst_host_srv_diff_host_rate'].mean()\n",
    "df.dst_host_srv_diff_host_rate = df.fillna(value=df['dst_host_srv_diff_host_rate'].mean())\n",
    "df.dst_host_srv_diff_host_rate.isnull().sum()\n",
    "        \n",
    "df['dst_host_rerror_rate'].mean()\n",
    "df.dst_host_rerror_rate = df.fillna(value=df['dst_host_rerror_rate'].mean())\n",
    "df.dst_host_rerror_rate.isnull().sum()\n",
    "                 \n",
    "df['dst_host_srv_rerror_rate'].mean()\n",
    "df.dst_host_srv_rerror_rate  = df.fillna(value=df['dst_host_srv_rerror_rate'].mean())\n",
    "df.dst_host_srv_rerror_rate.isnull().sum()                  \n",
    "              \n",
    "df['serror_rate'].mean()\n",
    "df.serror_rate = df.fillna(value=df['serror_rate'].mean())\n",
    "df.serror_rate.isnull().sum()               \n",
    "       \n",
    "#df['Target'].mode()\n",
    "#df.Target = df.fillna(value=tar_mode)\n",
    "#df.Target.isnull().sum()\n",
    "\n",
    "df['srv_diff_host_rate'].mean()\n",
    "df.srv_diff_host_rate = df.fillna(value=df['srv_diff_host_rate'].mean())\n",
    "df.srv_diff_host_rate.isnull().sum()"
   ]
  },
  {
   "cell_type": "code",
   "execution_count": 9,
   "metadata": {},
   "outputs": [
    {
     "data": {
      "text/plain": [
       "X                              0\n",
       "duration                       0\n",
       "land                           0\n",
       "wrong_fragment                 0\n",
       "urgent                         0\n",
       "hot                            0\n",
       "num_failed_logins              0\n",
       "logged_in                      0\n",
       "num_compromised                0\n",
       "root_shell                     0\n",
       "su_attempted                   0\n",
       "num_root                       0\n",
       "num_file_creations             0\n",
       "num_shells                     0\n",
       "num_access_files               0\n",
       "num_outbound_cmds              0\n",
       "is_host_login                  0\n",
       "is_guest_login                 0\n",
       "rerror_rate                    0\n",
       "srv_rerror_rate                0\n",
       "diff_srv_rate                  0\n",
       "srv_diff_host_rate             0\n",
       "dst_host_count                 0\n",
       "dst_host_srv_diff_host_rate    0\n",
       "dst_host_rerror_rate           0\n",
       "dst_host_srv_rerror_rate       0\n",
       "serror_rate                    0\n",
       "Target                         0\n",
       "dtype: int64"
      ]
     },
     "execution_count": 9,
     "metadata": {},
     "output_type": "execute_result"
    }
   ],
   "source": [
    "#df.Target = df.fillna(value=tar_mode)\n",
    "df.isnull().sum()\n",
    "#df.Target.value_counts()"
   ]
  },
  {
   "cell_type": "code",
   "execution_count": 10,
   "metadata": {},
   "outputs": [
    {
     "data": {
      "text/plain": [
       "0     0\n",
       "1     0\n",
       "2     0\n",
       "3     0\n",
       "4     0\n",
       "5     0\n",
       "6     0\n",
       "7     0\n",
       "8     0\n",
       "9     0\n",
       "10    0\n",
       "11    0\n",
       "12    0\n",
       "13    0\n",
       "14    0\n",
       "15    0\n",
       "16    0\n",
       "17    0\n",
       "18    0\n",
       "19    0\n",
       "Name: Target, dtype: int64"
      ]
     },
     "execution_count": 10,
     "metadata": {},
     "output_type": "execute_result"
    }
   ],
   "source": [
    "#x = df.drop([\"Target\",\"X\"], axis=1)\n",
    "x = df.drop([\"Target\"], axis=1)\n",
    "x.columns\n",
    "df.Target.head()\n",
    "y = df.Target\n",
    "y.head(20)"
   ]
  },
  {
   "cell_type": "code",
   "execution_count": 11,
   "metadata": {},
   "outputs": [
    {
     "data": {
      "text/plain": [
       "0"
      ]
     },
     "execution_count": 11,
     "metadata": {},
     "output_type": "execute_result"
    }
   ],
   "source": [
    "x.isnull().sum()\n",
    "y.isnull().sum()"
   ]
  },
  {
   "cell_type": "code",
   "execution_count": 12,
   "metadata": {},
   "outputs": [],
   "source": [
    "x_train,x_test,y_train,y_test=train_test_split(x,y,test_size=0.3,random_state = 99)"
   ]
  },
  {
   "cell_type": "code",
   "execution_count": 13,
   "metadata": {},
   "outputs": [],
   "source": [
    "from sklearn.ensemble import RandomForestClassifier\n",
    "rfc = RandomForestClassifier();"
   ]
  },
  {
   "cell_type": "code",
   "execution_count": 14,
   "metadata": {},
   "outputs": [
    {
     "name": "stdout",
     "output_type": "stream",
     "text": [
      "(98000, 27)\n",
      "(98000,)\n",
      "(68600, 27) (29400, 27) (68600,) (29400,)\n"
     ]
    },
    {
     "data": {
      "text/plain": [
       "0    0\n",
       "1    0\n",
       "2    0\n",
       "3    0\n",
       "4    0\n",
       "Name: Target, dtype: int64"
      ]
     },
     "execution_count": 14,
     "metadata": {},
     "output_type": "execute_result"
    }
   ],
   "source": [
    "print(x.shape)\n",
    "print(y.shape)\n",
    "print(x_train.shape,x_test.shape,y_train.shape,y_test.shape)\n",
    "y.head()"
   ]
  },
  {
   "cell_type": "code",
   "execution_count": 15,
   "metadata": {},
   "outputs": [],
   "source": [
    "from sklearn.linear_model import LogisticRegression\n",
    "import warnings\n",
    "warnings.filterwarnings('ignore')"
   ]
  },
  {
   "cell_type": "code",
   "execution_count": 16,
   "metadata": {},
   "outputs": [],
   "source": [
    "lr = LogisticRegression(solver='lbfgs')\n",
    "lr.fit(x_train,y_train)\n",
    "result_lr = lr.predict(x_test)"
   ]
  },
  {
   "cell_type": "code",
   "execution_count": 17,
   "metadata": {},
   "outputs": [
    {
     "name": "stdout",
     "output_type": "stream",
     "text": [
      "              precision    recall  f1-score   support\n",
      "\n",
      "           0       0.99      1.00      0.99     28960\n",
      "           1       0.00      0.00      0.00       440\n",
      "\n",
      "    accuracy                           0.99     29400\n",
      "   macro avg       0.49      0.50      0.50     29400\n",
      "weighted avg       0.97      0.99      0.98     29400\n",
      "\n"
     ]
    }
   ],
   "source": [
    "from sklearn.metrics import classification_report, confusion_matrix, roc_auc_score,auc,roc_curve\n",
    "print(classification_report(y_test,result_lr))"
   ]
  },
  {
   "cell_type": "code",
   "execution_count": 18,
   "metadata": {},
   "outputs": [
    {
     "name": "stdout",
     "output_type": "stream",
     "text": [
      "[[28960     0]\n",
      " [  440     0]]\n"
     ]
    }
   ],
   "source": [
    "print(confusion_matrix(y_test,result_lr))"
   ]
  },
  {
   "cell_type": "code",
   "execution_count": 19,
   "metadata": {},
   "outputs": [
    {
     "name": "stdout",
     "output_type": "stream",
     "text": [
      "0.5\n"
     ]
    }
   ],
   "source": [
    "fpr,tpr, threshold = roc_curve(y_test,result_lr)\n",
    "roc_auc = auc(fpr,tpr)\n",
    "print(roc_auc)"
   ]
  },
  {
   "cell_type": "code",
   "execution_count": 20,
   "metadata": {},
   "outputs": [],
   "source": [
    "from sklearn.tree import DecisionTreeClassifier\n",
    "dtree = DecisionTreeClassifier()\n",
    "dtree = dtree.fit(x_train,y_train)\n",
    "resultdt = dtree.predict(x_test)"
   ]
  },
  {
   "cell_type": "code",
   "execution_count": 21,
   "metadata": {},
   "outputs": [
    {
     "name": "stdout",
     "output_type": "stream",
     "text": [
      "              precision    recall  f1-score   support\n",
      "\n",
      "           0       1.00      1.00      1.00     28960\n",
      "           1       1.00      1.00      1.00       440\n",
      "\n",
      "    accuracy                           1.00     29400\n",
      "   macro avg       1.00      1.00      1.00     29400\n",
      "weighted avg       1.00      1.00      1.00     29400\n",
      "\n"
     ]
    }
   ],
   "source": [
    "print(classification_report(y_test,resultdt))"
   ]
  },
  {
   "cell_type": "code",
   "execution_count": 22,
   "metadata": {},
   "outputs": [
    {
     "name": "stdout",
     "output_type": "stream",
     "text": [
      "[[28960     0]\n",
      " [    0   440]]\n"
     ]
    }
   ],
   "source": [
    "print(confusion_matrix(y_test,resultdt))"
   ]
  },
  {
   "cell_type": "code",
   "execution_count": 23,
   "metadata": {},
   "outputs": [
    {
     "name": "stdout",
     "output_type": "stream",
     "text": [
      "1.0\n"
     ]
    }
   ],
   "source": [
    "fpr,tpr, threshold = roc_curve(y_test,resultdt)\n",
    "roc_auc = auc(fpr,tpr)\n",
    "print(roc_auc)"
   ]
  },
  {
   "cell_type": "code",
   "execution_count": 24,
   "metadata": {},
   "outputs": [],
   "source": [
    "from sklearn.naive_bayes import GaussianNB\n",
    "gnb = GaussianNB()\n",
    "gnb.fit(x_train, y_train)\n",
    "resultnb = gnb.predict(x_test)"
   ]
  },
  {
   "cell_type": "code",
   "execution_count": 25,
   "metadata": {},
   "outputs": [
    {
     "name": "stdout",
     "output_type": "stream",
     "text": [
      "              precision    recall  f1-score   support\n",
      "\n",
      "           0       1.00      0.99      0.99     28960\n",
      "           1       0.51      1.00      0.67       440\n",
      "\n",
      "    accuracy                           0.99     29400\n",
      "   macro avg       0.75      0.99      0.83     29400\n",
      "weighted avg       0.99      0.99      0.99     29400\n",
      "\n"
     ]
    }
   ],
   "source": [
    "print(classification_report(y_test,resultnb))"
   ]
  },
  {
   "cell_type": "code",
   "execution_count": 26,
   "metadata": {},
   "outputs": [
    {
     "name": "stdout",
     "output_type": "stream",
     "text": [
      "[[28533   427]\n",
      " [    0   440]]\n"
     ]
    }
   ],
   "source": [
    "print(confusion_matrix(y_test,resultnb))"
   ]
  },
  {
   "cell_type": "code",
   "execution_count": 27,
   "metadata": {},
   "outputs": [
    {
     "name": "stdout",
     "output_type": "stream",
     "text": [
      "0.9926277624309393\n"
     ]
    }
   ],
   "source": [
    "fpr,tpr, threshold = roc_curve(y_test,resultnb)\n",
    "roc_auc = auc(fpr,tpr)\n",
    "print(roc_auc)"
   ]
  },
  {
   "cell_type": "code",
   "execution_count": 28,
   "metadata": {},
   "outputs": [
    {
     "data": {
      "text/plain": [
       "KNeighborsClassifier(algorithm='auto', leaf_size=30, metric='minkowski',\n",
       "                     metric_params=None, n_jobs=None, n_neighbors=5, p=2,\n",
       "                     weights='uniform')"
      ]
     },
     "execution_count": 28,
     "metadata": {},
     "output_type": "execute_result"
    }
   ],
   "source": [
    "from sklearn.neighbors import KNeighborsClassifier\n",
    "classifier = KNeighborsClassifier(n_neighbors=5)\n",
    "classifier.fit(x_train, y_train)"
   ]
  },
  {
   "cell_type": "code",
   "execution_count": 29,
   "metadata": {},
   "outputs": [],
   "source": [
    "resultknn = classifier.predict(x_test)"
   ]
  },
  {
   "cell_type": "code",
   "execution_count": 30,
   "metadata": {},
   "outputs": [
    {
     "name": "stdout",
     "output_type": "stream",
     "text": [
      "[[28960     0]\n",
      " [    2   438]]\n",
      "              precision    recall  f1-score   support\n",
      "\n",
      "           0       1.00      1.00      1.00     28960\n",
      "           1       1.00      1.00      1.00       440\n",
      "\n",
      "    accuracy                           1.00     29400\n",
      "   macro avg       1.00      1.00      1.00     29400\n",
      "weighted avg       1.00      1.00      1.00     29400\n",
      "\n"
     ]
    }
   ],
   "source": [
    "from sklearn.metrics import classification_report, confusion_matrix\n",
    "print(confusion_matrix(y_test, resultknn))\n",
    "print(classification_report(y_test, resultknn))"
   ]
  },
  {
   "cell_type": "code",
   "execution_count": 31,
   "metadata": {},
   "outputs": [
    {
     "name": "stdout",
     "output_type": "stream",
     "text": [
      "0.9977272727272728\n"
     ]
    }
   ],
   "source": [
    "fpr,tpr, threshold = roc_curve(y_test,resultknn)\n",
    "roc_auc = auc(fpr,tpr)\n",
    "print(roc_auc)"
   ]
  }
 ],
 "metadata": {
  "kernelspec": {
   "display_name": "Python 3",
   "language": "python",
   "name": "python3"
  },
  "language_info": {
   "codemirror_mode": {
    "name": "ipython",
    "version": 3
   },
   "file_extension": ".py",
   "mimetype": "text/x-python",
   "name": "python",
   "nbconvert_exporter": "python",
   "pygments_lexer": "ipython3",
   "version": "3.7.3"
  }
 },
 "nbformat": 4,
 "nbformat_minor": 2
}
